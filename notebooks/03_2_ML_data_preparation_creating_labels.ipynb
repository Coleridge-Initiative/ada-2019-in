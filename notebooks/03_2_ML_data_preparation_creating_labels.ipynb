{
 "cells": [
  {
   "cell_type": "markdown",
   "metadata": {},
   "source": [
    "<img style=\"float: center;\" src=\"./images/CI_horizontal.png\" width=\"600\">\n",
    "<center>\n",
    "    <span style=\"font-size: 1.5em;\">\n",
    "        <a href='https://www.coleridgeinitiative.org'>Website</a>\n",
    "    </span>\n",
    "</center>\n",
    "\n",
    "Ghani, Rayid, Frauke Kreuter, Julia Lane, Adrianne Bradford, Alex Engler, Nicolas Guetta Jeanrenaud, Graham Henke, Daniela Hochfellner, Clayton Hunter, Brian Kim, Avishek Kumar, and Jonathan Morgan. \n",
    "\n",
    "_Citation to be updated on export_"
   ]
  },
  {
   "cell_type": "markdown",
   "metadata": {},
   "source": [
    "# Data Preparation for Machine Learning - Creating Labels\n",
    "----"
   ]
  },
  {
   "cell_type": "markdown",
   "metadata": {
    "toc": true
   },
   "source": [
    "<h1>Table of Contents<span class=\"tocSkip\"></span></h1>\n",
    "<div class=\"toc\" style=\"margin-top: 1em;\"><ul class=\"toc-item\"><li><span><a href=\"#Data-Preparation-for-Machine-Learning---Creating-Labels\" data-toc-modified-id=\"Data-Preparation-for-Machine-Learning---Creating-Labels-1\">Data Preparation for Machine Learning - Creating Labels</a></span><ul class=\"toc-item\"><li><span><a href=\"#Python-Setup\" data-toc-modified-id=\"Python-Setup-1.1\">Python Setup</a></span></li><li><span><a href=\"#Creating-Labels\" data-toc-modified-id=\"Creating-Labels-1.2\">Creating Labels</a></span><ul class=\"toc-item\"><li><span><a href=\"#Outcome-example:-not-employed-1-year-after-graduation\" data-toc-modified-id=\"Outcome-example:-not-employed-1-year-after-graduation-1.2.1\">Outcome example: not employed 1 year after graduation</a></span></li><li><span><a href=\"#Repeating-the-Label-Creation-Process\" data-toc-modified-id=\"Repeating-the-Label-Creation-Process-1.2.2\">Repeating the Label Creation Process</a></span></li><li><span><a href=\"#Writing-a-Function-to-Create-Labels\" data-toc-modified-id=\"Writing-a-Function-to-Create-Labels-1.2.3\">Writing a Function to Create Labels</a></span></li></ul></li></ul></li></ul></div>"
   ]
  },
  {
   "cell_type": "markdown",
   "metadata": {},
   "source": [
    "## Python Setup\n",
    "- Back to [Table of Contents](#Table-of-Contents)\n",
    "\n",
    "Before we begin, run the code cell below to initialize the libraries we'll be using in this assignment. We're already familiar with `numpy`, `pandas`, and `psycopg2` from previous tutorials. Here we'll also be using [`scikit-learn`](http://scikit-learn.org) to fit modeling."
   ]
  },
  {
   "cell_type": "code",
   "execution_count": null,
   "metadata": {},
   "outputs": [],
   "source": [
    "%pylab inline\n",
    "import pandas as pd\n",
    "import psycopg2\n",
    "from sqlalchemy import create_engine\n",
    "import time"
   ]
  },
  {
   "cell_type": "code",
   "execution_count": null,
   "metadata": {},
   "outputs": [],
   "source": [
    "# and set our database connection parameters\n",
    "db_name = \"appliedda\"\n",
    "hostname = \"10.10.2.10\""
   ]
  },
  {
   "cell_type": "markdown",
   "metadata": {},
   "source": [
    "## Creating Labels\n",
    "\n",
    "Labels are the dependent variables, or *Y* variables, that we are trying to predict. In the machine learning framework, your labels are usually *binary*: true or false, often encoded as 1 or 0. \n",
    "\n",
    "It is important to clearly and explicitly define the rows (aka observations) of your analysis to ensure you properly combine input datasets and populate the columns (aka features)."
   ]
  },
  {
   "cell_type": "code",
   "execution_count": null,
   "metadata": {},
   "outputs": [],
   "source": [
    "# set database connections - use psycopg2 to more easily execute queries without returning data \n",
    "# (eg for series of CREATE queries)\n",
    "conn = psycopg2.connect(database=db_name, host=hostname)\n",
    "cursor = conn.cursor()"
   ]
  },
  {
   "cell_type": "code",
   "execution_count": null,
   "metadata": {},
   "outputs": [],
   "source": [
    "start_time = time.time()\n",
    "sql = '''\n",
    "DROP TABLE IF EXISTS cohort_2009;\n",
    "\n",
    "CREATE TEMP TABLE cohort_2009 AS\n",
    "SELECT DISTINCT ON (ssn) ssn, degree_conferred_date,\n",
    "    extract(year from degree_conferred_date) AS year, \n",
    "    extract(quarter from degree_conferred_date) quarter,\n",
    "    date_trunc('quarter', degree_conferred_date)::date yr_q,\n",
    "    1 AS label --placeholder for the outcome to be created\n",
    "FROM in_data_2019.che_completions\n",
    "WHERE ssn_available_flag = 'Y' AND extract(year from degree_conferred_date) = 2009\n",
    "ORDER BY ssn, degree_conferred_date;\n",
    "\n",
    "COMMIT;\n",
    "'''\n",
    "# df = pd.read_sql(sql, conn)\n",
    "cursor.execute(sql)\n",
    "\n",
    "print('query complete in {:.2f} seconds'.format(time.time()-start_time))"
   ]
  },
  {
   "cell_type": "code",
   "execution_count": null,
   "metadata": {},
   "outputs": [],
   "source": [
    "sql = '''\n",
    "SELECT *\n",
    "FROM cohort_2009\n",
    "'''\n",
    "df = pd.read_sql(sql, conn)"
   ]
  },
  {
   "cell_type": "code",
   "execution_count": null,
   "metadata": {},
   "outputs": [],
   "source": [
    "print('there are {:,.0f} graduates in our selected study period'.format(df.shape[0]))"
   ]
  },
  {
   "cell_type": "code",
   "execution_count": null,
   "metadata": {},
   "outputs": [],
   "source": [
    "df['ssn'].nunique() # confirm unique individual records"
   ]
  },
  {
   "cell_type": "markdown",
   "metadata": {},
   "source": [
    "### Outcome example: not employed 1 year after graduation\n",
    "\n",
    "Above we defined our population: individuals who graduated from a higher ed institutions in 2009.\n",
    "\n",
    "Now we'll say a given individual is \"at risk of not getting a job\" if they were not present in the wage record data 1 year after they graduated"
   ]
  },
  {
   "cell_type": "code",
   "execution_count": null,
   "metadata": {},
   "outputs": [],
   "source": [
    "start_time = time.time()\n",
    "\n",
    "sql = '''\n",
    "DROP TABLE IF EXISTS cohort_2009_in_jobs_1yr;\n",
    "\n",
    "CREATE TEMP TABLE cohort_2009_in_jobs_1yr AS\n",
    "SELECT *\n",
    "FROM in_data_2019.wages_by_employer\n",
    "where year = 2009+1 \n",
    "    and ssn in (select ssn from cohort_2009);\n",
    "\n",
    "COMMIT;\n",
    "'''\n",
    "cursor.execute(sql)\n",
    "\n",
    "print('query complete in {:.2f} seconds'.format(time.time()-start_time))\n",
    "pd.read_sql('select count(*) from cohort_2009_in_jobs_1yr;', conn)"
   ]
  },
  {
   "cell_type": "code",
   "execution_count": null,
   "metadata": {
    "scrolled": true
   },
   "outputs": [],
   "source": [
    "# Load the jobs into Pandas \n",
    "sql = '''\n",
    "SELECT count(*) jq, count(distinct ssn) num\n",
    "FROM cohort_2009_in_jobs_1yr\n",
    "'''\n",
    "df = pd.read_sql(sql, conn)\n",
    "print('people in our cohort were found in {:,.0f} \"job-quarters\" in 2010'.format(df['jq'][0]))\n",
    "print('there are {:,.0f} unique individuals who were found in Indiana wage records in 2010'.format(df['num'][0]))"
   ]
  },
  {
   "cell_type": "markdown",
   "metadata": {},
   "source": [
    "We will now update the `label` variable  to `0` if the individual was found in Indiana wage records 1 year after graduating"
   ]
  },
  {
   "cell_type": "code",
   "execution_count": null,
   "metadata": {},
   "outputs": [],
   "source": [
    "# update label column in the cohort table\n",
    "# by setting those we found in the wage\n",
    "# records to 0\n",
    "\n",
    "sql = \"\"\"\n",
    "UPDATE cohort_2009 a SET label = 0\n",
    "FROM cohort_2009_in_jobs_1yr b\n",
    "WHERE a.ssn = b.ssn\n",
    "    AND a.quarter = b.quarter;\n",
    "    \n",
    "commit;\n",
    "\"\"\"\n",
    "cursor.execute(sql)\n",
    "\n",
    "df = pd.read_sql(\"SELECT * FROM cohort_2009\", conn)"
   ]
  },
  {
   "cell_type": "code",
   "execution_count": null,
   "metadata": {},
   "outputs": [],
   "source": [
    "df.shape"
   ]
  },
  {
   "cell_type": "code",
   "execution_count": null,
   "metadata": {},
   "outputs": [],
   "source": [
    "pd.crosstab(index = df['label'], columns =  'count')"
   ]
  },
  {
   "cell_type": "code",
   "execution_count": null,
   "metadata": {},
   "outputs": [],
   "source": [
    "# or use .value_counts(normalize=True) to show ratio\n",
    "df['label'].value_counts(normalize=True)"
   ]
  },
  {
   "cell_type": "markdown",
   "metadata": {},
   "source": [
    "### Repeating the Label Creation Process"
   ]
  },
  {
   "cell_type": "markdown",
   "metadata": {},
   "source": [
    "We will need at least one (but preferably many) training and test sets for our machine learning analysis. We will put the above steps into a function with parameters for easier reuse."
   ]
  },
  {
   "cell_type": "markdown",
   "metadata": {},
   "source": [
    "### Writing a Function to Create Labels\n",
    "\n",
    "In the above, the SQL queries were all hard coded. In ths section, we demonstrate how to use functions with parameters for the choices we made to define our observations (rows) and label (outcome variable). "
   ]
  },
  {
   "cell_type": "code",
   "execution_count": null,
   "metadata": {},
   "outputs": [],
   "source": [
    "# to \"namespace\" the table(s) created, recommend team number (eg 't2_')\n",
    "\n",
    "# note - we recommend using lower case characters only!\n",
    "\n",
    "table_prefix = 'no_job_' "
   ]
  },
  {
   "cell_type": "code",
   "execution_count": null,
   "metadata": {},
   "outputs": [],
   "source": [
    "def generate_labels(YEAR, year_ahead=1, prefix=table_prefix, overwrite=False):\n",
    "    \n",
    "    #database connection\n",
    "    conn = psycopg2.connect(database=db_name, host = hostname) \n",
    "    cursor = conn.cursor()\n",
    "    \n",
    "    # create full set of queries to create labels\n",
    "    # this step will not execute the code in the database\n",
    "    # it will only create the Python string object\n",
    "    sql = \"\"\"\n",
    "    -- drop table if already exists in the database\n",
    "    DROP TABLE IF EXISTS ada_edwork.{tbl_prefix}cohort_{year};\n",
    "\n",
    "    -- create cohort of unique individuals who graduated in the \n",
    "    -- input year; this code takes the latest degree\n",
    "    CREATE TABLE ada_edwork.{tbl_prefix}cohort_{year} AS\n",
    "    SELECT DISTINCT ON (ssn) ssn, degree_conferred_date,\n",
    "        extract(year from degree_conferred_date)::int AS year, \n",
    "        extract(quarter from degree_conferred_date)::int quarter,\n",
    "        date_trunc('quarter', degree_conferred_date)::date yr_q,\n",
    "        1 AS label --placeholder for the outcome to be created\n",
    "    FROM in_data_2019.che_completions\n",
    "    WHERE ssn_available_flag = 'Y' \n",
    "        AND extract(year from degree_conferred_date) = {year}\n",
    "    ORDER BY ssn ASC, degree_conferred_date DESC;\n",
    "\n",
    "    COMMIT;\n",
    "    \n",
    "    -- find wage records in following year for our cohort\n",
    "    CREATE TEMP TABLE cohort_{year}_in_jobs_{ahead}yr AS\n",
    "    SELECT *\n",
    "    FROM in_data_2019.wages_by_employer\n",
    "    where year = {year}+1 \n",
    "        and ssn in (select ssn from ada_edwork.{tbl_prefix}cohort_{year});\n",
    "\n",
    "    -- set label to 0 for those who were present in wage records\n",
    "    UPDATE ada_edwork.{tbl_prefix}cohort_{year} a SET label = 0\n",
    "    FROM cohort_{year}_in_jobs_{ahead}yr b\n",
    "    WHERE a.ssn = b.ssn\n",
    "        AND a.quarter = b.quarter;\n",
    "\n",
    "    commit;\n",
    "    \n",
    "    \"\"\".format(year=YEAR, tbl_prefix=prefix, ahead=year_ahead)\n",
    "    \n",
    "    \n",
    "    # Let's check if the table already exists:\n",
    "    # This query will return an empty table (with no rows) if the table does not exist\n",
    "    cursor.execute('''\n",
    "    SELECT * FROM pg_tables \n",
    "    WHERE tablename = '{tbl_prefix}cohort_{year}' \n",
    "    AND schemaname = 'ada_edwork';\n",
    "    '''.format(year=YEAR, tbl_prefix=prefix))\n",
    "    \n",
    "    # Let's write table if it does not exist (or if overwrite = True)\n",
    "    if not(cursor.rowcount) or overwrite:\n",
    "        print(\"Creating table\")\n",
    "        cursor.execute(sql)\n",
    "    else:\n",
    "        print(\"Table already exists\")\n",
    "\n",
    "    cursor.close()\n",
    "    \n",
    "    # Load table into pandas dataframe\n",
    "    sql = '''\n",
    "    SELECT * FROM ada_edwork.{tbl_prefix}cohort_{year}\n",
    "    '''.format(year=YEAR, tbl_prefix=prefix)\n",
    "    \n",
    "    df = pd.read_sql(sql, conn)  \n",
    "    \n",
    "    return df"
   ]
  },
  {
   "cell_type": "markdown",
   "metadata": {},
   "source": [
    "Let's test the function with a couple different paramaters:"
   ]
  },
  {
   "cell_type": "code",
   "execution_count": null,
   "metadata": {},
   "outputs": [],
   "source": [
    "start_time = time.time()\n",
    "\n",
    "# Set parameter(s):\n",
    "year = 2007\n",
    "\n",
    "df_test1 = generate_labels(year)\n",
    "print('Labels generated in {:.2f} seconds'.format(time.time()-start_time))\n",
    "pd.crosstab(index = df_test1['label'], columns =  'count')"
   ]
  },
  {
   "cell_type": "code",
   "execution_count": null,
   "metadata": {
    "scrolled": true
   },
   "outputs": [],
   "source": [
    "start_time = time.time()\n",
    "\n",
    "# Set parameter(s):\n",
    "year = 2008\n",
    "\n",
    "df_test2 = generate_labels(year)\n",
    "print('Labels generated in {:.2f} seconds'.format(time.time()-start_time))\n",
    "pd.crosstab(index = df_test2['label'], columns =  'count')"
   ]
  },
  {
   "cell_type": "code",
   "execution_count": null,
   "metadata": {},
   "outputs": [],
   "source": [
    "years = [2009, 2010, 2011]\n",
    "\n",
    "for y in years:\n",
    "    start_time = time.time()\n",
    "    \n",
    "    df_test3 = generate_labels(y)\n",
    "    \n",
    "    print('Labels generated in {:.2f} seconds'.format(time.time()-start_time))\n",
    "    print(pd.crosstab(index = df_test3['label'], columns =  'count'))"
   ]
  },
  {
   "cell_type": "code",
   "execution_count": null,
   "metadata": {},
   "outputs": [],
   "source": [
    "# here's an easy way to compare proportions of outcomes between DataFrames\n",
    "df_test1['label'].value_counts(normalize=True)"
   ]
  },
  {
   "cell_type": "code",
   "execution_count": null,
   "metadata": {},
   "outputs": [],
   "source": [
    "df_test2['label'].value_counts(normalize=True)"
   ]
  },
  {
   "cell_type": "code",
   "execution_count": null,
   "metadata": {},
   "outputs": [],
   "source": [
    "df_test3['label'].value_counts(normalize=True)"
   ]
  },
  {
   "cell_type": "code",
   "execution_count": null,
   "metadata": {},
   "outputs": [],
   "source": []
  }
 ],
 "metadata": {
  "kernelspec": {
   "display_name": "py3-ada",
   "language": "python",
   "name": "py3-ada"
  },
  "language_info": {
   "codemirror_mode": {
    "name": "ipython",
    "version": 3
   },
   "file_extension": ".py",
   "mimetype": "text/x-python",
   "name": "python",
   "nbconvert_exporter": "python",
   "pygments_lexer": "ipython3",
   "version": "3.5.2"
  },
  "toc": {
   "nav_menu": {},
   "number_sections": false,
   "sideBar": true,
   "skip_h1_title": false,
   "toc_cell": true,
   "toc_position": {},
   "toc_section_display": "block",
   "toc_window_display": false
  }
 },
 "nbformat": 4,
 "nbformat_minor": 2
}
